{
 "cells": [
  {
   "cell_type": "code",
   "execution_count": 2,
   "metadata": {},
   "outputs": [],
   "source": [
    "import pandas as pd\n",
    "import matplotlib.pyplot as plt"
   ]
  },
  {
   "cell_type": "code",
   "execution_count": 3,
   "metadata": {},
   "outputs": [],
   "source": [
    "#reading data from train.csv file\n",
    "data=pd.read_csv(\"hamspam.tsv.txt\",sep=\"\\t\")"
   ]
  },
  {
   "cell_type": "code",
   "execution_count": 4,
   "metadata": {},
   "outputs": [
    {
     "data": {
      "text/plain": [
       "<bound method NDFrame.head of      label                                                msg\n",
       "0     spam  Free entry in 2 a wkly comp to win FA Cup fina...\n",
       "1      ham  Nah I don't think he goes to usf, he lives aro...\n",
       "2      ham  Even my brother is not like to speak with me. ...\n",
       "3      ham                I HAVE A DATE ON SUNDAY WITH WILL!!\n",
       "4      ham  As per your request 'Melle Melle (Oru Minnamin...\n",
       "5     spam  WINNER!! As a valued network customer you have...\n",
       "6     spam  Had your mobile 11 months or more? U R entitle...\n",
       "7      ham  I'm gonna be home soon and i don't want to tal...\n",
       "8     spam  SIX chances to win CASH! From 100 to 20,000 po...\n",
       "9     spam  URGENT! You have won a 1 week FREE membership ...\n",
       "10    spam  XXXMobileMovieClub: To use your credit, click ...\n",
       "11     ham                         Oh k...i'm watching here:)\n",
       "12     ham  Eh u remember how 2 spell his name... Yes i di...\n",
       "13     ham  Fine if thats the way u feel. Thats the way ...\n",
       "14    spam  England v Macedonia - dont miss the goals/team...\n",
       "15     ham          Is that seriously how you spell his name?\n",
       "16     ham    I‘m going to try for 2 months ha ha only joking\n",
       "17     ham  So ü pay first lar... Then when is da stock co...\n",
       "18     ham  Aft i finish my lunch then i go str down lor. ...\n",
       "19     ham  Ffffffffff. Alright no way I can meet up with ...\n",
       "20     ham  Just forced myself to eat a slice. I'm really ...\n",
       "21     ham                     Lol your always so convincing.\n",
       "22     ham  Did you catch the bus ? Are you frying an egg ...\n",
       "23     ham  I'm back &amp; we're packing the car now, I'll...\n",
       "24     ham  Ahhh. Work. I vaguely remember that! What does...\n",
       "25     ham  Wait that's still not all that clear, were you...\n",
       "26     ham  Yeah he got in at 2 and was v apologetic. n ha...\n",
       "27     ham                      K tell me anything about you.\n",
       "28     ham  For fear of fainting with the of all that hous...\n",
       "29    spam  Thanks for your subscription to Ringtone UK yo...\n",
       "...    ...                                                ...\n",
       "5537   ham           Armand says get your ass over to epsilon\n",
       "5538   ham             U still havent got urself a jacket ah?\n",
       "5539   ham  I'm taking derek &amp; taylor to walmart, if I...\n",
       "5540   ham      Hi its in durban are you still on this number\n",
       "5541   ham         Ic. There are a lotta childporn cars then.\n",
       "5542  spam  Had your contract mobile 11 Mnths? Latest Moto...\n",
       "5543   ham                 No, I was trying it all weekend ;V\n",
       "5544   ham  You know, wot people wear. T shirts, jumpers, ...\n",
       "5545   ham        Cool, what time you think you can get here?\n",
       "5546   ham  Wen did you get so spiritual and deep. That's ...\n",
       "5547   ham  Have a safe trip to Nigeria. Wish you happines...\n",
       "5548   ham                        Hahaha..use your brain dear\n",
       "5549   ham  Well keep in mind I've only got enough gas for...\n",
       "5550   ham  Yeh. Indians was nice. Tho it did kane me off ...\n",
       "5551   ham  Yes i have. So that's why u texted. Pshew...mi...\n",
       "5552   ham  No. I meant the calculation is the same. That ...\n",
       "5553   ham                             Sorry, I'll call later\n",
       "5554   ham  if you aren't here in the next  &lt;#&gt;  hou...\n",
       "5555   ham                  Anything lor. Juz both of us lor.\n",
       "5556   ham  Get me out of this dump heap. My mom decided t...\n",
       "5557   ham  Ok lor... Sony ericsson salesman... I ask shuh...\n",
       "5558   ham                                Ard 6 like dat lor.\n",
       "5559   ham  Why don't you wait 'til at least wednesday to ...\n",
       "5560   ham                                       Huh y lei...\n",
       "5561  spam  REMINDER FROM O2: To get 2.50 pounds free call...\n",
       "5562  spam  This is the 2nd time we have tried 2 contact u...\n",
       "5563   ham               Will ü b going to esplanade fr home?\n",
       "5564   ham  Pity, * was in mood for that. So...any other s...\n",
       "5565   ham  The guy did some bitching but I acted like i'd...\n",
       "5566   ham                         Rofl. Its true to its name\n",
       "\n",
       "[5567 rows x 2 columns]>"
      ]
     },
     "execution_count": 4,
     "metadata": {},
     "output_type": "execute_result"
    }
   ],
   "source": [
    "#ASSIGNING COLUMN NAMES\n",
    "data.columns=[\"label\",\"msg\"]\n",
    "data.head"
   ]
  },
  {
   "cell_type": "code",
   "execution_count": 5,
   "metadata": {},
   "outputs": [],
   "source": [
    "#c=data.label.value_counts()\n",
    "#plt.bar(c.index,c.get_values())\n"
   ]
  },
  {
   "cell_type": "code",
   "execution_count": 6,
   "metadata": {},
   "outputs": [],
   "source": [
    "#data.info"
   ]
  },
  {
   "cell_type": "code",
   "execution_count": 7,
   "metadata": {},
   "outputs": [],
   "source": [
    "#plt.hist(ght.label,align=\"mid\")\n",
    "#plt.xticks(ticks=[0,1],labels=[\"ham\",\"spam\"])"
   ]
  },
  {
   "cell_type": "code",
   "execution_count": 8,
   "metadata": {},
   "outputs": [],
   "source": [
    "#ASSIGNING 1 FOR HAM AND 0 FOR SPAM\n",
    "ght=data.copy()\n",
    "ght.label=ght.label.apply(lambda x:0 if x==\"ham\" else 1 )"
   ]
  },
  {
   "cell_type": "code",
   "execution_count": 9,
   "metadata": {},
   "outputs": [
    {
     "data": {
      "text/html": [
       "<div>\n",
       "<style scoped>\n",
       "    .dataframe tbody tr th:only-of-type {\n",
       "        vertical-align: middle;\n",
       "    }\n",
       "\n",
       "    .dataframe tbody tr th {\n",
       "        vertical-align: top;\n",
       "    }\n",
       "\n",
       "    .dataframe thead th {\n",
       "        text-align: right;\n",
       "    }\n",
       "</style>\n",
       "<table border=\"1\" class=\"dataframe\">\n",
       "  <thead>\n",
       "    <tr style=\"text-align: right;\">\n",
       "      <th></th>\n",
       "      <th>label</th>\n",
       "      <th>msg</th>\n",
       "    </tr>\n",
       "  </thead>\n",
       "  <tbody>\n",
       "    <tr>\n",
       "      <th>0</th>\n",
       "      <td>1</td>\n",
       "      <td>Free entry in 2 a wkly comp to win FA Cup fina...</td>\n",
       "    </tr>\n",
       "    <tr>\n",
       "      <th>1</th>\n",
       "      <td>0</td>\n",
       "      <td>Nah I don't think he goes to usf, he lives aro...</td>\n",
       "    </tr>\n",
       "    <tr>\n",
       "      <th>2</th>\n",
       "      <td>0</td>\n",
       "      <td>Even my brother is not like to speak with me. ...</td>\n",
       "    </tr>\n",
       "    <tr>\n",
       "      <th>3</th>\n",
       "      <td>0</td>\n",
       "      <td>I HAVE A DATE ON SUNDAY WITH WILL!!</td>\n",
       "    </tr>\n",
       "    <tr>\n",
       "      <th>4</th>\n",
       "      <td>0</td>\n",
       "      <td>As per your request 'Melle Melle (Oru Minnamin...</td>\n",
       "    </tr>\n",
       "  </tbody>\n",
       "</table>\n",
       "</div>"
      ],
      "text/plain": [
       "   label                                                msg\n",
       "0      1  Free entry in 2 a wkly comp to win FA Cup fina...\n",
       "1      0  Nah I don't think he goes to usf, he lives aro...\n",
       "2      0  Even my brother is not like to speak with me. ...\n",
       "3      0                I HAVE A DATE ON SUNDAY WITH WILL!!\n",
       "4      0  As per your request 'Melle Melle (Oru Minnamin..."
      ]
     },
     "execution_count": 9,
     "metadata": {},
     "output_type": "execute_result"
    }
   ],
   "source": [
    "ght.head()"
   ]
  },
  {
   "cell_type": "code",
   "execution_count": 10,
   "metadata": {},
   "outputs": [],
   "source": [
    "data.columns=[\"label\",\"news\"]"
   ]
  },
  {
   "cell_type": "code",
   "execution_count": 11,
   "metadata": {},
   "outputs": [
    {
     "data": {
      "text/html": [
       "<div>\n",
       "<style scoped>\n",
       "    .dataframe tbody tr th:only-of-type {\n",
       "        vertical-align: middle;\n",
       "    }\n",
       "\n",
       "    .dataframe tbody tr th {\n",
       "        vertical-align: top;\n",
       "    }\n",
       "\n",
       "    .dataframe thead th {\n",
       "        text-align: right;\n",
       "    }\n",
       "</style>\n",
       "<table border=\"1\" class=\"dataframe\">\n",
       "  <thead>\n",
       "    <tr style=\"text-align: right;\">\n",
       "      <th></th>\n",
       "      <th>label</th>\n",
       "      <th>news</th>\n",
       "    </tr>\n",
       "  </thead>\n",
       "  <tbody>\n",
       "    <tr>\n",
       "      <th>0</th>\n",
       "      <td>spam</td>\n",
       "      <td>Free entry in 2 a wkly comp to win FA Cup fina...</td>\n",
       "    </tr>\n",
       "    <tr>\n",
       "      <th>1</th>\n",
       "      <td>ham</td>\n",
       "      <td>Nah I don't think he goes to usf, he lives aro...</td>\n",
       "    </tr>\n",
       "    <tr>\n",
       "      <th>2</th>\n",
       "      <td>ham</td>\n",
       "      <td>Even my brother is not like to speak with me. ...</td>\n",
       "    </tr>\n",
       "    <tr>\n",
       "      <th>3</th>\n",
       "      <td>ham</td>\n",
       "      <td>I HAVE A DATE ON SUNDAY WITH WILL!!</td>\n",
       "    </tr>\n",
       "    <tr>\n",
       "      <th>4</th>\n",
       "      <td>ham</td>\n",
       "      <td>As per your request 'Melle Melle (Oru Minnamin...</td>\n",
       "    </tr>\n",
       "  </tbody>\n",
       "</table>\n",
       "</div>"
      ],
      "text/plain": [
       "  label                                               news\n",
       "0  spam  Free entry in 2 a wkly comp to win FA Cup fina...\n",
       "1   ham  Nah I don't think he goes to usf, he lives aro...\n",
       "2   ham  Even my brother is not like to speak with me. ...\n",
       "3   ham                I HAVE A DATE ON SUNDAY WITH WILL!!\n",
       "4   ham  As per your request 'Melle Melle (Oru Minnamin..."
      ]
     },
     "execution_count": 11,
     "metadata": {},
     "output_type": "execute_result"
    }
   ],
   "source": [
    "data.head()"
   ]
  },
  {
   "cell_type": "code",
   "execution_count": 12,
   "metadata": {},
   "outputs": [],
   "source": [
    "from sklearn.model_selection import train_test_split\n",
    "df=data.copy()"
   ]
  },
  {
   "cell_type": "code",
   "execution_count": 13,
   "metadata": {},
   "outputs": [],
   "source": [
    "#for assigning values to x(feature) and y(target)\n",
    "y=data[\"label\"].values\n",
    "x=data[\"news\"].values\n",
    "x_train,x_test,y_train,y_test=train_test_split(x,y,test_size=0.20,random_state=21)"
   ]
  },
  {
   "cell_type": "code",
   "execution_count": 14,
   "metadata": {},
   "outputs": [
    {
     "data": {
      "text/plain": [
       "True"
      ]
     },
     "execution_count": 14,
     "metadata": {},
     "output_type": "execute_result"
    }
   ],
   "source": [
    "len(x_train)==len(y_train)\n",
    "len(x_test)==len(y_test)"
   ]
  },
  {
   "cell_type": "code",
   "execution_count": 15,
   "metadata": {},
   "outputs": [],
   "source": [
    "from sklearn.feature_extraction.text import CountVectorizer\n",
    "#countvectorizer is used to convert string data into int data"
   ]
  },
  {
   "cell_type": "code",
   "execution_count": 16,
   "metadata": {},
   "outputs": [],
   "source": [
    "#stop words are used for filtering out words before procesing\n",
    "count_vectorizer=CountVectorizer(stop_words=\"english\")"
   ]
  },
  {
   "cell_type": "code",
   "execution_count": 17,
   "metadata": {},
   "outputs": [],
   "source": [
    "#count_vectorizer.fit(x_train)#here predict is like transform"
   ]
  },
  {
   "cell_type": "code",
   "execution_count": 18,
   "metadata": {},
   "outputs": [],
   "source": [
    "#for both fitting and transforming\n",
    "count_converted=count_vectorizer.fit_transform(x_train)"
   ]
  },
  {
   "cell_type": "code",
   "execution_count": 19,
   "metadata": {},
   "outputs": [
    {
     "data": {
      "text/plain": [
       "array([[0, 0, 0, ..., 0, 0, 0],\n",
       "       [0, 0, 0, ..., 0, 0, 0],\n",
       "       [0, 0, 0, ..., 0, 0, 0],\n",
       "       ...,\n",
       "       [0, 0, 0, ..., 0, 0, 0],\n",
       "       [0, 0, 0, ..., 0, 0, 0],\n",
       "       [0, 0, 0, ..., 0, 0, 0]], dtype=int64)"
      ]
     },
     "execution_count": 19,
     "metadata": {},
     "output_type": "execute_result"
    }
   ],
   "source": [
    "count_converted.toarray()#for converting string data to integer data"
   ]
  },
  {
   "cell_type": "code",
   "execution_count": 20,
   "metadata": {},
   "outputs": [
    {
     "data": {
      "text/plain": [
       "(4453, 7436)"
      ]
     },
     "execution_count": 20,
     "metadata": {},
     "output_type": "execute_result"
    }
   ],
   "source": [
    "count_converted.toarray().shape"
   ]
  },
  {
   "cell_type": "code",
   "execution_count": 21,
   "metadata": {},
   "outputs": [],
   "source": [
    "from sklearn.tree import DecisionTreeClassifier"
   ]
  },
  {
   "cell_type": "code",
   "execution_count": 22,
   "metadata": {},
   "outputs": [],
   "source": [
    "model=DecisionTreeClassifier()"
   ]
  },
  {
   "cell_type": "code",
   "execution_count": 23,
   "metadata": {},
   "outputs": [
    {
     "data": {
      "text/plain": [
       "DecisionTreeClassifier(class_weight=None, criterion='gini', max_depth=None,\n",
       "            max_features=None, max_leaf_nodes=None,\n",
       "            min_impurity_decrease=0.0, min_impurity_split=None,\n",
       "            min_samples_leaf=1, min_samples_split=2,\n",
       "            min_weight_fraction_leaf=0.0, presort=False, random_state=None,\n",
       "            splitter='best')"
      ]
     },
     "execution_count": 23,
     "metadata": {},
     "output_type": "execute_result"
    }
   ],
   "source": [
    "model.fit(count_converted,y_train)"
   ]
  },
  {
   "cell_type": "code",
   "execution_count": 24,
   "metadata": {},
   "outputs": [
    {
     "data": {
      "text/plain": [
       "array(['Once free call me sir. I am waiting for you.',\n",
       "       'K do I need a login or anything', 'Ok', ...,\n",
       "       'Brainless Baby Doll..:-D;-), vehicle sariyag drive madoke barolla..',\n",
       "       'Good morning, im suffering from fever and dysentry ..will not be able to come to office today.',\n",
       "       'it to 80488. Your 500 free text messages are valid until 31 December 2005.'],\n",
       "      dtype=object)"
      ]
     },
     "execution_count": 24,
     "metadata": {},
     "output_type": "execute_result"
    }
   ],
   "source": [
    "x_test"
   ]
  },
  {
   "cell_type": "code",
   "execution_count": 25,
   "metadata": {},
   "outputs": [],
   "source": [
    "x_test_converted=count_vectorizer.transform(x_test)"
   ]
  },
  {
   "cell_type": "code",
   "execution_count": 28,
   "metadata": {},
   "outputs": [
    {
     "data": {
      "text/plain": [
       "(1114, 7436)"
      ]
     },
     "execution_count": 28,
     "metadata": {},
     "output_type": "execute_result"
    }
   ],
   "source": [
    "x_test_converted.shape"
   ]
  },
  {
   "cell_type": "code",
   "execution_count": 80,
   "metadata": {},
   "outputs": [
    {
     "data": {
      "text/plain": [
       "0.973967684021544"
      ]
     },
     "execution_count": 80,
     "metadata": {},
     "output_type": "execute_result"
    }
   ],
   "source": [
    "pred=model.predict(x_test_converted)\n",
    "y_test==pred\n",
    "from sklearn.metrics import accuracy_score\n",
    "accuracy_score(y_test,pred)"
   ]
  },
  {
   "cell_type": "code",
   "execution_count": 81,
   "metadata": {},
   "outputs": [
    {
     "data": {
      "text/plain": [
       "array(['ham'], dtype=object)"
      ]
     },
     "execution_count": 81,
     "metadata": {},
     "output_type": "execute_result"
    }
   ],
   "source": [
    "a=count_vectorizer.transform([\"you won a lottery\"])\n",
    "model.predict(a)"
   ]
  },
  {
   "cell_type": "code",
   "execution_count": null,
   "metadata": {},
   "outputs": [],
   "source": []
  }
 ],
 "metadata": {
  "kernelspec": {
   "display_name": "Python 3",
   "language": "python",
   "name": "python3"
  },
  "language_info": {
   "codemirror_mode": {
    "name": "ipython",
    "version": 3
   },
   "file_extension": ".py",
   "mimetype": "text/x-python",
   "name": "python",
   "nbconvert_exporter": "python",
   "pygments_lexer": "ipython3",
   "version": "3.7.3"
  }
 },
 "nbformat": 4,
 "nbformat_minor": 2
}
